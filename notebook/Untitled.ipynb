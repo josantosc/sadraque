{
 "cells": [
  {
   "cell_type": "code",
   "execution_count": 10,
   "id": "072c3d2a",
   "metadata": {},
   "outputs": [],
   "source": [
    "item= {'type_agenda': 2, 'name': {'description': 'Congresso Ativação', 'data': 'Em Outubro'}, 'created_at':\"\"}"
   ]
  },
  {
   "cell_type": "code",
   "execution_count": 11,
   "id": "6bc4aa07",
   "metadata": {},
   "outputs": [
    {
     "data": {
      "text/plain": [
       "{'type_agenda': 2,\n",
       " 'name': {'description': 'Congresso Ativação', 'data': 'Em Outubro'},\n",
       " 'created_at': ''}"
      ]
     },
     "execution_count": 11,
     "metadata": {},
     "output_type": "execute_result"
    }
   ],
   "source": [
    "item"
   ]
  },
  {
   "cell_type": "code",
   "execution_count": 12,
   "id": "dfc78647",
   "metadata": {},
   "outputs": [],
   "source": [
    "def agendaEntity(item) -> dict:\n",
    "\n",
    "    return {\n",
    "        \"type_agenda\": item[\"type_agenda\"],\n",
    "        \"name\": item[\"name\"],\n",
    "        \"created_at\": item[\"created_at\"]\n",
    "    }\n"
   ]
  },
  {
   "cell_type": "code",
   "execution_count": 15,
   "id": "b7edb74d",
   "metadata": {},
   "outputs": [
    {
     "data": {
      "text/plain": [
       "{'type_agenda': 2,\n",
       " 'name': {'description': 'Congresso Ativação', 'data': 'Em Outubro'},\n",
       " 'created_at': ''}"
      ]
     },
     "execution_count": 15,
     "metadata": {},
     "output_type": "execute_result"
    }
   ],
   "source": [
    "d = agendaEntity(item)\n",
    "d"
   ]
  },
  {
   "cell_type": "code",
   "execution_count": 14,
   "id": "9f372efe",
   "metadata": {},
   "outputs": [],
   "source": [
    "def agendasEntity(entity) -> list:\n",
    "    return [agendaEntity(item) for item in entity]"
   ]
  },
  {
   "cell_type": "code",
   "execution_count": 29,
   "id": "5539c5b1",
   "metadata": {},
   "outputs": [
    {
     "name": "stdout",
     "output_type": "stream",
     "text": [
      "<generator object <genexpr> at 0x7f245c059b30>\n"
     ]
    }
   ],
   "source": [
    "z = (item for item in d)\n",
    "print(z)"
   ]
  }
 ],
 "metadata": {
  "kernelspec": {
   "display_name": "Python 3 (ipykernel)",
   "language": "python",
   "name": "python3"
  },
  "language_info": {
   "codemirror_mode": {
    "name": "ipython",
    "version": 3
   },
   "file_extension": ".py",
   "mimetype": "text/x-python",
   "name": "python",
   "nbconvert_exporter": "python",
   "pygments_lexer": "ipython3",
   "version": "3.9.7"
  }
 },
 "nbformat": 4,
 "nbformat_minor": 5
}
